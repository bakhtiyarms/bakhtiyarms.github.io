{
  "nbformat": 4,
  "nbformat_minor": 0,
  "metadata": {
    "colab": {
      "provenance": []
    },
    "kernelspec": {
      "name": "python3",
      "display_name": "Python 3"
    },
    "language_info": {
      "name": "python"
    }
  },
  "cells": [
    {
      "cell_type": "code",
      "execution_count": null,
      "metadata": {
        "id": "oAVpcFtOYY2o"
      },
      "outputs": [],
      "source": [
        "import pandas as pd"
      ]
    },
    {
      "cell_type": "code",
      "source": [
        "tables= pd.read_html(\"https://en.wikipedia.org/wiki/School-leaving_age\")"
      ],
      "metadata": {
        "id": "A0rTADS9Y7VO"
      },
      "execution_count": null,
      "outputs": []
    },
    {
      "cell_type": "code",
      "source": [
        "l = [\"Finn\", \"Josh\"]\n",
        "\n",
        "l[1]"
      ],
      "metadata": {
        "colab": {
          "base_uri": "https://localhost:8080/",
          "height": 35
        },
        "id": "5e5ej1d_ZbAl",
        "outputId": "ae330b7f-bfb0-4c49-b4e3-e28d105844f5"
      },
      "execution_count": null,
      "outputs": [
        {
          "output_type": "execute_result",
          "data": {
            "text/plain": [
              "'Josh'"
            ],
            "application/vnd.google.colaboratory.intrinsic+json": {
              "type": "string"
            }
          },
          "metadata": {},
          "execution_count": 6
        }
      ]
    },
    {
      "cell_type": "code",
      "source": [
        "tables = tables\n",
        "df = tables[2]\n",
        "df.columns = [\"age_gap\", \"country\", \"school_age\", \"employment_age\", \"year\", \"notes\"]\n",
        "\n",
        "df = df[[\"country\", \"school_age\", \"employment_age\"]]\n",
        "\n",
        "df[\"school_age\"] = pd.to_numeric(df[\"school_age\"], errors='coerce')\n",
        "df[\"employment_age\"] = pd.to_numeric(df[\"employment_age\"], errors='coerce')\n",
        "\n",
        "df = df.dropna()\n",
        "\n",
        "df.to_csv('education_policy.csv', index=False)"
      ],
      "metadata": {
        "colab": {
          "base_uri": "https://localhost:8080/"
        },
        "id": "vyISSH_gZSnn",
        "outputId": "8b8b9e24-416b-46ac-bdc0-00b368cfe751"
      },
      "execution_count": null,
      "outputs": [
        {
          "output_type": "stream",
          "name": "stderr",
          "text": [
            "<ipython-input-25-dba27a1ebe98>:7: SettingWithCopyWarning: \n",
            "A value is trying to be set on a copy of a slice from a DataFrame.\n",
            "Try using .loc[row_indexer,col_indexer] = value instead\n",
            "\n",
            "See the caveats in the documentation: https://pandas.pydata.org/pandas-docs/stable/user_guide/indexing.html#returning-a-view-versus-a-copy\n",
            "  df[\"school_age\"] = pd.to_numeric(df[\"school_age\"], errors='coerce')\n",
            "<ipython-input-25-dba27a1ebe98>:8: SettingWithCopyWarning: \n",
            "A value is trying to be set on a copy of a slice from a DataFrame.\n",
            "Try using .loc[row_indexer,col_indexer] = value instead\n",
            "\n",
            "See the caveats in the documentation: https://pandas.pydata.org/pandas-docs/stable/user_guide/indexing.html#returning-a-view-versus-a-copy\n",
            "  df[\"employment_age\"] = pd.to_numeric(df[\"employment_age\"], errors='coerce')\n"
          ]
        }
      ]
    },
    {
      "cell_type": "code",
      "source": [],
      "metadata": {
        "id": "xXtiEN-yZTXi"
      },
      "execution_count": null,
      "outputs": []
    }
  ]
}